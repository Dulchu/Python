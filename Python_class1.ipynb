{
  "nbformat": 4,
  "nbformat_minor": 0,
  "metadata": {
    "colab": {
      "name": "Python class1.ipynb",
      "provenance": [],
      "collapsed_sections": [],
      "authorship_tag": "ABX9TyMsIwlxedrulapI2/xEb30T",
      "include_colab_link": true
    },
    "kernelspec": {
      "name": "python3",
      "display_name": "Python 3"
    },
    "language_info": {
      "name": "python"
    }
  },
  "cells": [
    {
      "cell_type": "markdown",
      "metadata": {
        "id": "view-in-github",
        "colab_type": "text"
      },
      "source": [
        "<a href=\"https://colab.research.google.com/github/Dulchu/Python/blob/main/Python_class1.ipynb\" target=\"_parent\"><img src=\"https://colab.research.google.com/assets/colab-badge.svg\" alt=\"Open In Colab\"/></a>"
      ]
    },
    {
      "cell_type": "code",
      "execution_count": null,
      "metadata": {
        "colab": {
          "base_uri": "https://localhost:8080/"
        },
        "id": "2Nc5BgC57m2o",
        "outputId": "242f3273-1411-4634-bd50-5174cb03da19"
      },
      "outputs": [
        {
          "output_type": "stream",
          "name": "stdout",
          "text": [
            "Muhammad Abdullah\n"
          ]
        }
      ],
      "source": [
        "print(\"Muhammad Abdullah\")"
      ]
    },
    {
      "cell_type": "code",
      "source": [
        "#this is my first comment\n",
        "print(\"Hello World\")"
      ],
      "metadata": {
        "colab": {
          "base_uri": "https://localhost:8080/"
        },
        "id": "5aeuruSE74n9",
        "outputId": "18822a54-b9c7-4130-e89c-434e1ce0ae89"
      },
      "execution_count": null,
      "outputs": [
        {
          "output_type": "stream",
          "name": "stdout",
          "text": [
            "Hello World\n"
          ]
        }
      ]
    },
    {
      "cell_type": "code",
      "source": [
        "num = \"value of the data\"\n",
        "print(num)"
      ],
      "metadata": {
        "colab": {
          "base_uri": "https://localhost:8080/"
        },
        "id": "aCR30cGY9Yq7",
        "outputId": "258595ba-7cef-480d-b9fa-3dd9baa2cb40"
      },
      "execution_count": null,
      "outputs": [
        {
          "output_type": "stream",
          "name": "stdout",
          "text": [
            "value of the data\n"
          ]
        }
      ]
    },
    {
      "cell_type": "code",
      "source": [
        "saving =100\n",
        "print(saving)"
      ],
      "metadata": {
        "colab": {
          "base_uri": "https://localhost:8080/"
        },
        "id": "ex02ICvY_yGq",
        "outputId": "b88e89db-550a-4c47-ba5c-81bb56733197"
      },
      "execution_count": null,
      "outputs": [
        {
          "output_type": "stream",
          "name": "stdout",
          "text": [
            "100\n"
          ]
        }
      ]
    },
    {
      "cell_type": "code",
      "source": [
        "myname=\"Muhammad abdullah\"\n",
        "print(myname)"
      ],
      "metadata": {
        "colab": {
          "base_uri": "https://localhost:8080/"
        },
        "id": "v5Hc5_qyAsKt",
        "outputId": "4ef5e3da-e67b-4ec3-e01c-8c35bfac96d3"
      },
      "execution_count": null,
      "outputs": [
        {
          "output_type": "stream",
          "name": "stdout",
          "text": [
            "Muhammad abdullah\n"
          ]
        }
      ]
    },
    {
      "cell_type": "code",
      "source": [
        "x=y=z=\"data scinece is next century oil\"\n",
        "print(\"value of x : \",x,\"value of y :\",y,\"value of z :\",z)"
      ],
      "metadata": {
        "id": "5ZwY93KeA2Jz",
        "colab": {
          "base_uri": "https://localhost:8080/"
        },
        "outputId": "b5be2736-dbde-4b62-d4a1-3b8c33f9b284"
      },
      "execution_count": 1,
      "outputs": [
        {
          "output_type": "stream",
          "name": "stdout",
          "text": [
            "value of x :  data scinece is next century oil value of y : data scinece is next century oil value of z : data scinece is next century oil\n"
          ]
        }
      ]
    },
    {
      "cell_type": "code",
      "source": [
        ""
      ],
      "metadata": {
        "id": "0u8ypZ1-JdH-"
      },
      "execution_count": null,
      "outputs": []
    }
  ]
}